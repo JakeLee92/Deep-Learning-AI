{
  "nbformat": 4,
  "nbformat_minor": 0,
  "metadata": {
    "kernelspec": {
      "display_name": "Python 3",
      "language": "python",
      "name": "python3"
    },
    "language_info": {
      "codemirror_mode": {
        "name": "ipython",
        "version": 3
      },
      "file_extension": ".py",
      "mimetype": "text/x-python",
      "name": "python",
      "nbconvert_exporter": "python",
      "pygments_lexer": "ipython3",
      "version": "3.6.5"
    },
    "colab": {
      "name": "10~11. 데이터 타입과 컬렉션 - 07~08. 컬렉션 타입 이해(dict, set).ipynb",
      "provenance": [],
      "collapsed_sections": [],
      "include_colab_link": true
    },
    "accelerator": "GPU"
  },
  "cells": [
    {
      "cell_type": "markdown",
      "metadata": {
        "id": "view-in-github",
        "colab_type": "text"
      },
      "source": [
        "<a href=\"https://colab.research.google.com/github/JakeLee92/Deep-Learning-AI/blob/main/10~11_%E1%84%83%E1%85%A6%E1%84%8B%E1%85%B5%E1%84%90%E1%85%A5_%E1%84%90%E1%85%A1%E1%84%8B%E1%85%B5%E1%86%B8%E1%84%80%E1%85%AA_%E1%84%8F%E1%85%A5%E1%86%AF%E1%84%85%E1%85%A6%E1%86%A8%E1%84%89%E1%85%A7%E1%86%AB_07~08_%E1%84%8F%E1%85%A5%E1%86%AF%E1%84%85%E1%85%A6%E1%86%A8%E1%84%89%E1%85%A7%E1%86%AB_%E1%84%90%E1%85%A1%E1%84%8B%E1%85%B5%E1%86%B8_%E1%84%8B%E1%85%B5%E1%84%92%E1%85%A2(dict%2C_set).ipynb\" target=\"_parent\"><img src=\"https://colab.research.google.com/assets/colab-badge.svg\" alt=\"Open In Colab\"/></a>"
      ]
    },
    {
      "cell_type": "markdown",
      "metadata": {
        "id": "vBdvjqG_9dVG"
      },
      "source": [
        "## 학습목표\n",
        " 1. dictionary, set에 대해 이해 및 실습\n"
      ]
    },
    {
      "cell_type": "markdown",
      "metadata": {
        "id": "Jlm6JHEK9dVM"
      },
      "source": [
        "### **dictionary**\n",
        " + 키와 값을 갖는 데이터 구조\n",
        " + 키는 내부적으로 hash값으로 저장\n",
        " + 순서를 따지지 않음. 즉, 인덱스가 없음"
      ]
    },
    {
      "cell_type": "code",
      "metadata": {
        "colab": {
          "base_uri": "https://localhost:8080/"
        },
        "id": "DwEK_RT29dVN",
        "outputId": "1e8f6989-1444-41f1-838b-7d91665abda9"
      },
      "source": [
        "a = [0,1,2,3,4,12,32,32,222,111]\n",
        "\n",
        "print(a[0])\n",
        "print(a[4])\n",
        "\n",
        "a = {'Korea' : 'Seoul', 'Canada' : 'Ottawa', 'USA' : 'Washington D.C'}\n",
        "\n",
        "# print(a[0]) --> X 인덱스가 없다 \n",
        "\n",
        "b = { 0:1, 1:2, 2:343 ,3:454 ,4:454 ,5:90}\n",
        "\n",
        "print(a['Korea'])\n",
        "print(b[3])"
      ],
      "execution_count": 4,
      "outputs": [
        {
          "output_type": "stream",
          "text": [
            "0\n",
            "4\n",
            "Seoul\n",
            "454\n"
          ],
          "name": "stdout"
        }
      ]
    },
    {
      "cell_type": "markdown",
      "metadata": {
        "id": "Y58yuXV69dVO"
      },
      "source": [
        "+ **항목 추가 및 변경**\n",
        " - 기존에 키가 존재 하면, 새로운 값으로 업데이트\n",
        " - 존재하지 않으면, 새로운 키, 값 생성"
      ]
    },
    {
      "cell_type": "code",
      "metadata": {
        "colab": {
          "base_uri": "https://localhost:8080/"
        },
        "id": "mk1YGZqR9dVO",
        "outputId": "3595c6fd-1ed4-4815-83f0-2d68a62ad802"
      },
      "source": [
        "a = {'Korea' : 'Seoul', 'Canada' : 'Ottawa', 'USA' : 'Washington D.C'}\n",
        "\n",
        "a['Japan'] = 'Tokko'\n",
        "a['Japan'] = 'Tokyo'\n",
        "a['Japan2'] = 'Tokyo'\n",
        "a['China'] = 'Beijing'\n",
        "\n",
        "print(a)"
      ],
      "execution_count": 8,
      "outputs": [
        {
          "output_type": "stream",
          "text": [
            "{'Korea': 'Seoul', 'Canada': 'Ottawa', 'USA': 'Washington D.C', 'Japan': 'Tokyo', 'Japan2': 'Tokyo', 'China': 'Beijing'}\n"
          ],
          "name": "stdout"
        }
      ]
    },
    {
      "cell_type": "markdown",
      "metadata": {
        "id": "2uvOe2it9dVO"
      },
      "source": [
        "+ **update()**\n",
        " * 두 딕셔너리를 병합함\n",
        " * 겹치는 키가 있다면 parameter로 전달되는 키 값이 overwrite된다."
      ]
    },
    {
      "cell_type": "code",
      "metadata": {
        "colab": {
          "base_uri": "https://localhost:8080/"
        },
        "id": "hwoUdZpC9dVP",
        "outputId": "281ebc8b-54eb-4da6-8480-6b9820951757"
      },
      "source": [
        " a = {'a': 1, 'b':2, 'c' :3}\n",
        " b = {'a': 4, 'd':4, 'e' :5}\n",
        "\n",
        "a.update(b)\n",
        "\n",
        "print(a)"
      ],
      "execution_count": 10,
      "outputs": [
        {
          "output_type": "stream",
          "text": [
            "{'a': 4, 'b': 2, 'c': 3, 'd': 4, 'e': 5}\n"
          ],
          "name": "stdout"
        }
      ]
    },
    {
      "cell_type": "markdown",
      "metadata": {
        "id": "3Y-mU6Az9dVP"
      },
      "source": [
        "* **key삭제**\n",
        " - del 키워드 사용\n",
        " - pop 함수 이용\n",
        " "
      ]
    },
    {
      "cell_type": "code",
      "metadata": {
        "colab": {
          "base_uri": "https://localhost:8080/"
        },
        "id": "hIk4H_KR9dVP",
        "outputId": "40f18b8e-3d64-4d27-fc77-81dc4a26375d"
      },
      "source": [
        " a = {'a': 1, 'b':2, 'c' :3}\n",
        "\n",
        " a.pop('c')\n",
        " print(a)\n",
        "\n",
        " del a['a']\n",
        " print(a)"
      ],
      "execution_count": 12,
      "outputs": [
        {
          "output_type": "stream",
          "text": [
            "{'a': 1, 'b': 2}\n",
            "{'b': 2}\n"
          ],
          "name": "stdout"
        }
      ]
    },
    {
      "cell_type": "markdown",
      "metadata": {
        "id": "4fNeHCX89dVP"
      },
      "source": [
        "* **clear()**\n",
        " + 딕셔너리의 모든 값을 초기화\n"
      ]
    },
    {
      "cell_type": "code",
      "metadata": {
        "colab": {
          "base_uri": "https://localhost:8080/"
        },
        "id": "15GT_2IT9dVQ",
        "outputId": "72d6ec49-7d88-46d4-a424-1362fbd3193c"
      },
      "source": [
        "print(a)\n",
        "a.clear()\n",
        "print(a)"
      ],
      "execution_count": 13,
      "outputs": [
        {
          "output_type": "stream",
          "text": [
            "{'b': 2}\n",
            "{}\n"
          ],
          "name": "stdout"
        }
      ]
    },
    {
      "cell_type": "markdown",
      "metadata": {
        "id": "HjMHhi0-9dVQ"
      },
      "source": [
        "* **in**\n",
        " + key값 존재 확인\n",
        " + O(1) 연산 - 딕셔너리의 크기와 관계없이 항상 연산의 속도가 일정하다는 의미"
      ]
    },
    {
      "cell_type": "code",
      "metadata": {
        "colab": {
          "base_uri": "https://localhost:8080/"
        },
        "id": "EeyTpRSr9dVR",
        "outputId": "7be7afe5-1454-4556-d07f-a19afd6a179b"
      },
      "source": [
        " a = {'a': 1, 'b':2, 'c' :3}\n",
        " print(a)\n",
        "b = [1,2,3,4,56,7,8,89,100]\n",
        "\n",
        "#리스트는 조회를 하기 때문에 성능에 문제를 야기한다.\n",
        "print(100 in b)\n",
        "print('b' in b)\n",
        "\n",
        "\n",
        "# Dictionary 는 키가 존재하여 바로 참조 가능\n",
        " print('b' in a)\n",
        " print('d' in a)"
      ],
      "execution_count": 16,
      "outputs": [
        {
          "output_type": "stream",
          "text": [
            "{'a': 1, 'b': 2, 'c': 3}\n",
            "True\n",
            "False\n",
            "True\n",
            "False\n"
          ],
          "name": "stdout"
        }
      ]
    },
    {
      "cell_type": "markdown",
      "metadata": {
        "id": "UIq9pti_9dVR"
      },
      "source": [
        "* **value access**\n",
        " + dict[key]로 접급, 키가 없는 경우 에러 발생 \n",
        " + .get() 함수로 접근, 키가 없는 경우 None반환"
      ]
    },
    {
      "cell_type": "code",
      "metadata": {
        "colab": {
          "base_uri": "https://localhost:8080/"
        },
        "id": "16CJlQCs9dVR",
        "outputId": "dcb084bf-6059-48a6-b72d-3b2779229149"
      },
      "source": [
        "print(a.get('a'))\n",
        "print(a.get('aa'))\n",
        "\n",
        "if 'd' in a:\n",
        "  print(a['d'])\n"
      ],
      "execution_count": 19,
      "outputs": [
        {
          "output_type": "stream",
          "text": [
            "1\n",
            "None\n"
          ],
          "name": "stdout"
        }
      ]
    },
    {
      "cell_type": "markdown",
      "metadata": {
        "id": "qh0z90wY9dVS"
      },
      "source": [
        "#### **모든 keys, values 접근**\n",
        " + keys() - 키만 반환\n",
        " + values() - 값만 반환\n",
        " + items() - 키, 값의 튜플을 반환"
      ]
    },
    {
      "cell_type": "code",
      "metadata": {
        "colab": {
          "base_uri": "https://localhost:8080/"
        },
        "id": "WanqE2XM9dVS",
        "outputId": "d0080c7c-7cd0-4334-9672-326db35630e5"
      },
      "source": [
        "print(a)\n",
        "\n",
        "print(list(a.keys()))\n",
        "print(list(a.values()))\n",
        "\n",
        "list(a.items())"
      ],
      "execution_count": 22,
      "outputs": [
        {
          "output_type": "stream",
          "text": [
            "{'a': 1, 'b': 2, 'c': 3}\n",
            "['a', 'b', 'c']\n",
            "[1, 2, 3]\n"
          ],
          "name": "stdout"
        },
        {
          "output_type": "execute_result",
          "data": {
            "text/plain": [
              "[('a', 1), ('b', 2), ('c', 3)]"
            ]
          },
          "metadata": {
            "tags": []
          },
          "execution_count": 22
        }
      ]
    },
    {
      "cell_type": "markdown",
      "metadata": {
        "id": "DhC1yIKH9dVS"
      },
      "source": [
        "### **set**\n",
        " + dictionary에서 key만 활용하는 데이터 구조로 이해\n",
        " + 수학에서의 집합과 동일한 개념"
      ]
    },
    {
      "cell_type": "code",
      "metadata": {
        "colab": {
          "base_uri": "https://localhost:8080/"
        },
        "id": "cM8bG7lj9dVS",
        "outputId": "1041c840-985c-4888-8f67-beb5082157b0"
      },
      "source": [
        "a = {1,1,2,2,3,4,5,1,5}\n",
        "print(a)"
      ],
      "execution_count": 23,
      "outputs": [
        {
          "output_type": "stream",
          "text": [
            "{1, 2, 3, 4, 5}\n"
          ],
          "name": "stdout"
        }
      ]
    },
    {
      "cell_type": "markdown",
      "metadata": {
        "id": "1Of_uwa89dVS"
      },
      "source": [
        "* **set()으로 집합으로 변환**"
      ]
    },
    {
      "cell_type": "code",
      "metadata": {
        "colab": {
          "base_uri": "https://localhost:8080/"
        },
        "id": "c9mAe8539dVS",
        "outputId": "b5287be7-b2cf-4fbd-f994-c19c5e146ab9"
      },
      "source": [
        "a = {}\n",
        "\n",
        "type (a)\n",
        "\n",
        "a = set()\n",
        "\n",
        "a = [1,1,2,2,3,4,5,1,5]\n",
        "\n",
        "print(a)\n",
        "\n",
        "b = set(a)\n",
        "\n",
        "print(b)"
      ],
      "execution_count": 26,
      "outputs": [
        {
          "output_type": "stream",
          "text": [
            "[1, 1, 2, 2, 3, 4, 5, 1, 5]\n",
            "{1, 2, 3, 4, 5}\n"
          ],
          "name": "stdout"
        }
      ]
    },
    {
      "cell_type": "markdown",
      "metadata": {
        "id": "4igWIfMY9dVT"
      },
      "source": [
        "+ **set operations**\n",
        " - 수학 연산과 동일\n",
        " - 교집합, 합집합, 차집합 등 지원"
      ]
    },
    {
      "cell_type": "code",
      "metadata": {
        "colab": {
          "base_uri": "https://localhost:8080/"
        },
        "id": "YpHOBf469dVT",
        "outputId": "e4eaea6b-2ed0-4814-c4ed-69cb31bbfad4"
      },
      "source": [
        "a = {1,2,3}\n",
        "b = {2,3,4}\n",
        "\n",
        "print(a.union(b)) # 합집합\n",
        "print(list(a.intersection(b))) # 교집합\n",
        "print(a.issubset(b)) # 부분집합\n"
      ],
      "execution_count": 29,
      "outputs": [
        {
          "output_type": "stream",
          "text": [
            "{1, 2, 3, 4}\n",
            "[2, 3]\n",
            "False\n"
          ],
          "name": "stdout"
        }
      ]
    },
    {
      "cell_type": "code",
      "metadata": {
        "id": "tfB_LvKHB41_"
      },
      "source": [
        ""
      ],
      "execution_count": null,
      "outputs": []
    }
  ]
}