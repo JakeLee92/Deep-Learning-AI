{
  "nbformat": 4,
  "nbformat_minor": 0,
  "metadata": {
    "kernelspec": {
      "display_name": "Python 3",
      "language": "python",
      "name": "python3"
    },
    "language_info": {
      "codemirror_mode": {
        "name": "ipython",
        "version": 3
      },
      "file_extension": ".py",
      "mimetype": "text/x-python",
      "name": "python",
      "nbconvert_exporter": "python",
      "pygments_lexer": "ipython3",
      "version": "3.6.5"
    },
    "colab": {
      "name": "05. 데이터 타입과 컬렉션 - 03. 문자열 타입의 이해.ipynb",
      "provenance": [],
      "collapsed_sections": [],
      "include_colab_link": true
    }
  },
  "cells": [
    {
      "cell_type": "markdown",
      "metadata": {
        "id": "view-in-github",
        "colab_type": "text"
      },
      "source": [
        "<a href=\"https://colab.research.google.com/github/JakeLee92/Deep-Learning-AI/blob/main/05_%EB%8D%B0%EC%9D%B4%ED%84%B0_%ED%83%80%EC%9E%85%EA%B3%BC_%EC%BB%AC%EB%A0%89%EC%85%98_03_%EB%AC%B8%EC%9E%90%EC%97%B4_%ED%83%80%EC%9E%85%EC%9D%98_%EC%9D%B4%ED%95%B4.ipynb\" target=\"_parent\"><img src=\"https://colab.research.google.com/assets/colab-badge.svg\" alt=\"Open In Colab\"/></a>"
      ]
    },
    {
      "cell_type": "markdown",
      "metadata": {
        "id": "5U-hX5nszyoj"
      },
      "source": [
        "### 학습목표\n",
        "1. 문자열(str) 타입 이해하기"
      ]
    },
    {
      "cell_type": "markdown",
      "metadata": {
        "id": "o_xd82wqzyou"
      },
      "source": [
        "### **string (문자열)**\n",
        " - 복수개의 문자를 순서대로 나열 한 것\n",
        " - 문자열은 '(작은따옴표) 혹은 \"(큰따옴표) 사이에 문자를 넣어서 생성\n",
        " - 문자열 자체에 ', \"가 있는 경우에는 각각 그 반대의 기호로 생성"
      ]
    },
    {
      "cell_type": "markdown",
      "metadata": {
        "id": "R3jdYLROzyou"
      },
      "source": [
        "#### **''' '''사용하여 표현 가능**\n",
        "  - 차이점 \n",
        "    - '', \"\" -> 한줄 문자열 표현\n",
        "    - ''' ''' -> 어려줄에 걸쳐 문자열 표현 가능"
      ]
    },
    {
      "cell_type": "code",
      "metadata": {
        "colab": {
          "base_uri": "https://localhost:8080/"
        },
        "id": "WFPmyh43zyov",
        "outputId": "00bbc539-4b42-42dd-becd-89ce829de80f"
      },
      "source": [
        "a = '\"Hello\" World'\n",
        "b = \"Hello' World\"\n",
        "\n",
        "# String is only one line\n",
        "c = '''Hello World. \n",
        "\n",
        "It's wo nderful world'''\n",
        "\n",
        "print(a)\n",
        "print(b)\n",
        "print(c)"
      ],
      "execution_count": null,
      "outputs": [
        {
          "output_type": "stream",
          "text": [
            "\"Hello\" World\n",
            "Hello' World\n",
            "Hello World. \n",
            "\n",
            "It's wo nderful world\n"
          ],
          "name": "stdout"
        }
      ]
    },
    {
      "cell_type": "code",
      "metadata": {
        "id": "mLRISRJGzyow",
        "outputId": "9dfeb5b1-a683-49ec-a2b0-deff158b642b"
      },
      "source": [
        "c = '''Hello \n",
        "\n",
        "World'''\n",
        "\n",
        "d = \"\"\"Hello \n",
        "World\"\"\"\n",
        "\n",
        "print(c)\n",
        "print(d)"
      ],
      "execution_count": null,
      "outputs": [
        {
          "output_type": "stream",
          "text": [
            "Hello \n",
            "\n",
            "World\n",
            "Hello \n",
            "World\n"
          ],
          "name": "stdout"
        }
      ]
    },
    {
      "cell_type": "markdown",
      "metadata": {
        "id": "GQVIZK9pzyow"
      },
      "source": [
        "#### escape string (이스케이프 문자)\n",
        "* 문자열내의 일부 문자의 의미를 달리하여 `특정한 효과`를 주는 것\n",
        "* `\\n` : new line `\\t` : tab 등\n",
        "\n"
      ]
    },
    {
      "cell_type": "code",
      "metadata": {
        "colab": {
          "base_uri": "https://localhost:8080/"
        },
        "id": "uvmFUbSNzyox",
        "outputId": "5a6e9076-2c43-47d7-fe42-5c6ced052efc"
      },
      "source": [
        "print (\"hey what is the matter ??\\n\\n -------------\")\n",
        "print (\" haha hah ha t\")"
      ],
      "execution_count": null,
      "outputs": [
        {
          "output_type": "stream",
          "text": [
            "hey what is the matter ??\n",
            "\n",
            " -------------\n",
            " haha hah ha t\n"
          ],
          "name": "stdout"
        }
      ]
    },
    {
      "cell_type": "markdown",
      "metadata": {
        "id": "s_woNx7xzyox"
      },
      "source": [
        "#### **indexing & slicing string (문자열 인덱스 및 추출)**\n",
        "  - 문자열의 각 문자는 순서가 있음\n",
        "  - 이때 각 문자열의 순서를 **인덱스** 라고 함\n",
        "  - 첫번째 문자부터 마지막까지 차례대로의 순서를 가짐\n",
        "  - 첫번째 시작문자의 순서는 0으로 시작 (1이 아님)"
      ]
    },
    {
      "cell_type": "markdown",
      "metadata": {
        "id": "yr2AT4AVzyox"
      },
      "source": [
        "* **연습문제**\n",
        "문자열의 마지막 문자의 순서의 값은?"
      ]
    },
    {
      "cell_type": "code",
      "metadata": {
        "colab": {
          "base_uri": "https://localhost:8080/",
          "height": 225
        },
        "id": "CY-4Nuffzyoy",
        "outputId": "4a1dec44-0053-4210-b05c-4358ca9d7343"
      },
      "source": [
        "a = 'Hello World' # 길이 : 11\n",
        "print(a[10])\n"
      ],
      "execution_count": null,
      "outputs": [
        {
          "output_type": "stream",
          "text": [
            "d\n"
          ],
          "name": "stdout"
        },
        {
          "output_type": "error",
          "ename": "NameError",
          "evalue": "ignored",
          "traceback": [
            "\u001b[0;31m---------------------------------------------------------------------------\u001b[0m",
            "\u001b[0;31mNameError\u001b[0m                                 Traceback (most recent call last)",
            "\u001b[0;32m<ipython-input-11-65c7f11b6d84>\u001b[0m in \u001b[0;36m<module>\u001b[0;34m()\u001b[0m\n\u001b[1;32m      2\u001b[0m \u001b[0mprint\u001b[0m\u001b[0;34m(\u001b[0m\u001b[0ma\u001b[0m\u001b[0;34m[\u001b[0m\u001b[0;36m10\u001b[0m\u001b[0;34m]\u001b[0m\u001b[0;34m)\u001b[0m\u001b[0;34m\u001b[0m\u001b[0;34m\u001b[0m\u001b[0m\n\u001b[1;32m      3\u001b[0m \u001b[0;34m\u001b[0m\u001b[0m\n\u001b[0;32m----> 4\u001b[0;31m \u001b[0mlength\u001b[0m\u001b[0;34m(\u001b[0m\u001b[0ma\u001b[0m\u001b[0;34m)\u001b[0m\u001b[0;34m\u001b[0m\u001b[0;34m\u001b[0m\u001b[0m\n\u001b[0m",
            "\u001b[0;31mNameError\u001b[0m: name 'length' is not defined"
          ]
        }
      ]
    },
    {
      "cell_type": "markdown",
      "metadata": {
        "id": "B4nZnNNlzyoy"
      },
      "source": [
        "#### **-1 인덱스**\n",
        "  - 다른 언어와는 달리, python의 경우 음수 인덱스를 지원\n",
        "  - -1이 가장 마지막 인덱스를, -2가 마지막에서 두번째 인덱스를 의미..."
      ]
    },
    {
      "cell_type": "code",
      "metadata": {
        "id": "Mhp4dhkSzyoy",
        "outputId": "6e3502ba-0b6a-4b29-8a35-0a6449c52713"
      },
      "source": [
        "print(a[0])\n",
        "print(a[10])\n",
        "\n",
        "print(a[-1])\n",
        "print(a[-11])"
      ],
      "execution_count": null,
      "outputs": [
        {
          "output_type": "stream",
          "text": [
            "H\n",
            "d\n",
            "d\n",
            "H\n"
          ],
          "name": "stdout"
        }
      ]
    },
    {
      "cell_type": "markdown",
      "metadata": {
        "id": "xTyFquFJzyoz"
      },
      "source": [
        "#### **인덱스의 범위**\n",
        "  - 인덱스는 [0, 문자열의 길이) 의 범위만 유효\n",
        "  - 음수 인덱스를 사용할 경우, [-문자열의 길이, -1]\n",
        "  - 범위를 넘어갈 경우 에러 발생"
      ]
    },
    {
      "cell_type": "code",
      "metadata": {
        "colab": {
          "base_uri": "https://localhost:8080/"
        },
        "id": "xkyV-GOIzyoz",
        "outputId": "fdc129ce-9b02-4def-ced5-371f28689c3f"
      },
      "source": [
        "# print(a[11])\n",
        "print(a[-1])"
      ],
      "execution_count": null,
      "outputs": [
        {
          "output_type": "stream",
          "text": [
            "d\n"
          ],
          "name": "stdout"
        }
      ]
    },
    {
      "cell_type": "markdown",
      "metadata": {
        "id": "s-xN5NxG02-Y"
      },
      "source": [
        ""
      ]
    },
    {
      "cell_type": "markdown",
      "metadata": {
        "id": "fs2v7nMbzyo0"
      },
      "source": [
        "#### **문자열 slicing**\n",
        "  - 인덱스가 하나의 문자만을 추출한다면,\n",
        "  - slicing은 부분 문자열을 추출한다고 볼 수 있음\n",
        "  - [시작:끝]와 같이 명시하여 [시작, 끝)에 해당하는 부분 문자열을 추출\n",
        "  - 시작, 끝 인덱스가 생략이 되어 있다면, 0부터 혹은 끝까지로 간주"
      ]
    },
    {
      "cell_type": "code",
      "metadata": {
        "colab": {
          "base_uri": "https://localhost:8080/"
        },
        "id": "prd4OCbOzyo0",
        "outputId": "e7216cf4-52e3-4e4e-e35d-f07dc2eadb9c"
      },
      "source": [
        "hello_word = \"hey my name is ingyu \"\n",
        "\n",
        "print(hello_word[:])\n",
        "print(hello_word[3:])\n",
        "print(hello_word[0:-5])\n",
        "\n"
      ],
      "execution_count": null,
      "outputs": [
        {
          "output_type": "stream",
          "text": [
            "hey my name is ingyu \n",
            " my name is ingyu \n",
            "hey my name is i\n"
          ],
          "name": "stdout"
        }
      ]
    },
    {
      "cell_type": "markdown",
      "metadata": {
        "id": "0aeNk93qzyo0"
      },
      "source": [
        "#### **문자열 함수**\n",
        "  - 문자열은 여러가지 기능 제공을 위한 함수를 내장\n",
        "  - 함수란 특정 기능을 하는 코드로 언제든지 호출하여 해당 기능을 사용 가능하도록 구성한 코드\n",
        "  - 추후에 함수에 대해 자세히 다룰 예정"
      ]
    },
    {
      "cell_type": "code",
      "metadata": {
        "colab": {
          "base_uri": "https://localhost:8080/",
          "height": 38
        },
        "id": "5F-KokDCzyo1",
        "outputId": "5dccb786-de06-4a2b-ce85-1899195cc27b"
      },
      "source": [
        "a = \"my name is ingyu lee \"\n",
        "\n",
        "a.upper()"
      ],
      "execution_count": null,
      "outputs": [
        {
          "output_type": "execute_result",
          "data": {
            "application/vnd.google.colaboratory.intrinsic+json": {
              "type": "string"
            },
            "text/plain": [
              "'MY NAME IS INGYU LEE '"
            ]
          },
          "metadata": {
            "tags": []
          },
          "execution_count": 21
        }
      ]
    },
    {
      "cell_type": "markdown",
      "metadata": {
        "id": "yz8c8wGczyo2"
      },
      "source": [
        "* **replace** \n",
        " - 문자열 내의 특정 문자를 치환"
      ]
    },
    {
      "cell_type": "code",
      "metadata": {
        "colab": {
          "base_uri": "https://localhost:8080/",
          "height": 38
        },
        "id": "hY0nn72Czyo3",
        "outputId": "317621c1-d8ce-476b-c4db-2df0d0df9d6f"
      },
      "source": [
        "a = 'hello world'\n",
        "a.replace('h', 'j')\n"
      ],
      "execution_count": null,
      "outputs": [
        {
          "output_type": "execute_result",
          "data": {
            "application/vnd.google.colaboratory.intrinsic+json": {
              "type": "string"
            },
            "text/plain": [
              "'jello world'"
            ]
          },
          "metadata": {
            "tags": []
          },
          "execution_count": 22
        }
      ]
    },
    {
      "cell_type": "markdown",
      "metadata": {
        "id": "--K_pG_Rzyo3"
      },
      "source": [
        "* **format**\n",
        " - 문자열내의 특정한 값을 변수로부터 초기화하여 동적으로 문자열을 생성 "
      ]
    },
    {
      "cell_type": "code",
      "metadata": {
        "colab": {
          "base_uri": "https://localhost:8080/"
        },
        "id": "haZBTD7Kzyo3",
        "outputId": "b8a844c5-5e13-43c1-822f-82075a226a78"
      },
      "source": [
        "temperature = 25.5\n",
        "prob = 80.0\n",
        "\n",
        "a = '오늘 기온{}도 이고, 비올 확률은 {}% 입니다.'.format(temperature, prob)\n",
        "print(a)\n",
        "\n",
        "string_temp = \"my {} is {} !!\".format(\"name\",\"ingyu lee\")\n",
        "\n",
        "print(string_temp)"
      ],
      "execution_count": null,
      "outputs": [
        {
          "output_type": "stream",
          "text": [
            "오늘 기온25.5도 이고, 비올 확률은 80.0% 입니다.\n",
            "my name is ingyu lee !!\n"
          ],
          "name": "stdout"
        }
      ]
    },
    {
      "cell_type": "markdown",
      "metadata": {
        "id": "D2Pt2O_ezyo4"
      },
      "source": [
        "* **split**\n",
        " - 문자열을 특정한 문자 구분하여(delimiter) 문자열의 리스트로 치환"
      ]
    },
    {
      "cell_type": "code",
      "metadata": {
        "colab": {
          "base_uri": "https://localhost:8080/"
        },
        "id": "8sqLHKDFzyo4",
        "outputId": "bdfc2325-abd6-48cc-dbf3-a3528fe624c8"
      },
      "source": [
        "a = 'hello world what a nice weather'\n",
        "a.split('w')"
      ],
      "execution_count": null,
      "outputs": [
        {
          "output_type": "execute_result",
          "data": {
            "text/plain": [
              "['hello ', 'orld ', 'hat a nice ', 'eather']"
            ]
          },
          "metadata": {
            "tags": []
          },
          "execution_count": 25
        }
      ]
    },
    {
      "cell_type": "code",
      "metadata": {
        "id": "CBwrndZhzyo4"
      },
      "source": [
        ""
      ],
      "execution_count": null,
      "outputs": []
    }
  ]
}