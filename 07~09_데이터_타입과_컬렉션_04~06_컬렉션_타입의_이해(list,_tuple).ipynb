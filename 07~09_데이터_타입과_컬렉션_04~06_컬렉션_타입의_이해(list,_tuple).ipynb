{
  "nbformat": 4,
  "nbformat_minor": 0,
  "metadata": {
    "kernelspec": {
      "display_name": "Python 3",
      "language": "python",
      "name": "python3"
    },
    "language_info": {
      "codemirror_mode": {
        "name": "ipython",
        "version": 3
      },
      "file_extension": ".py",
      "mimetype": "text/x-python",
      "name": "python",
      "nbconvert_exporter": "python",
      "pygments_lexer": "ipython3",
      "version": "3.6.5"
    },
    "colab": {
      "name": "07~09. 데이터 타입과 컬렉션 - 04~06.컬렉션 타입의 이해(list, tuple).ipynb",
      "provenance": [],
      "include_colab_link": true
    }
  },
  "cells": [
    {
      "cell_type": "markdown",
      "metadata": {
        "id": "view-in-github",
        "colab_type": "text"
      },
      "source": [
        "<a href=\"https://colab.research.google.com/github/JakeLee92/Deep-Learning-AI/blob/main/07~09_%EB%8D%B0%EC%9D%B4%ED%84%B0_%ED%83%80%EC%9E%85%EA%B3%BC_%EC%BB%AC%EB%A0%89%EC%85%98_04~06_%EC%BB%AC%EB%A0%89%EC%85%98_%ED%83%80%EC%9E%85%EC%9D%98_%EC%9D%B4%ED%95%B4(list%2C_tuple).ipynb\" target=\"_parent\"><img src=\"https://colab.research.google.com/assets/colab-badge.svg\" alt=\"Open In Colab\"/></a>"
      ]
    },
    {
      "cell_type": "markdown",
      "metadata": {
        "id": "c48so98e5Dai"
      },
      "source": [
        "\n",
        "\n",
        "## 학습목표\n",
        " 1. list, tuple에 대해 이해 및 실습\n"
      ]
    },
    {
      "cell_type": "markdown",
      "metadata": {
        "id": "2SGGKR_25Das"
      },
      "source": [
        "### **리스트 & 튜플**\n",
        " * 복수개의 값을 담을 수 있는 데이터 구조\n",
        " * 실생활에서 사용하는 리스트(학생 리스트, 성적 리스트 등등)과 동일한 의미로 이해\n",
        " * list - mutable    (생성된 후에 변경 가능)  \n",
        " * tuple - immutable (생성된 후에 변경 불가능)  "
      ]
    },
    {
      "cell_type": "markdown",
      "metadata": {
        "id": "9uynSAiS5Dat"
      },
      "source": [
        "#### **리스트 초기화**\n",
        " - [] 안에 값을 담아서 생성\n",
        " - list() 함수로 생성\n",
        " - str.split()함수로 생성"
      ]
    },
    {
      "cell_type": "markdown",
      "metadata": {
        "id": "B6RjUBkH5Dat"
      },
      "source": [
        "* **list() 함수**\n",
        " + 다른 데이터 타입을 리스트로 변환할 때도 사용"
      ]
    },
    {
      "cell_type": "code",
      "metadata": {
        "colab": {
          "base_uri": "https://localhost:8080/"
        },
        "id": "0n5VxhMA5Dat",
        "outputId": "b9001da2-ec5e-441d-f37a-b2675f9ae189"
      },
      "source": [
        "\n",
        "a= []\n",
        "print(a)\n",
        "type(a)"
      ],
      "execution_count": null,
      "outputs": [
        {
          "output_type": "stream",
          "text": [
            "[]\n"
          ],
          "name": "stdout"
        },
        {
          "output_type": "execute_result",
          "data": {
            "text/plain": [
              "list"
            ]
          },
          "metadata": {
            "tags": []
          },
          "execution_count": 3
        }
      ]
    },
    {
      "cell_type": "markdown",
      "metadata": {
        "id": "NFd9ML_75Dau"
      },
      "source": [
        "+ **string split 함수**\n",
        " * 구분자로 구분되는 리스트를 반환 (빈번히 사용 됨)"
      ]
    },
    {
      "cell_type": "code",
      "metadata": {
        "id": "ZyqtHZIO5Dau"
      },
      "source": [
        ""
      ],
      "execution_count": null,
      "outputs": []
    },
    {
      "cell_type": "markdown",
      "metadata": {
        "id": "Fxg46ni_5Dav"
      },
      "source": [
        "#### **리스트 indexing**\n",
        " * 문자열의 인덱싱과 동일하게 동작\n",
        " * [] 연산자를 이용하여 항목 얻어오기\n",
        " * [i] - i번째 원소를 반환\n",
        " * i가 음수인 경우도 가능하며 마지막원소가 -1로 하여 앞으로 갈때마다 1씩 감소함"
      ]
    },
    {
      "cell_type": "code",
      "metadata": {
        "colab": {
          "base_uri": "https://localhost:8080/"
        },
        "id": "6vDqL5Sy5Dav",
        "outputId": "aa3570e8-1fc0-48cb-ecf9-0eb0e60e7490"
      },
      "source": [
        "a = [1,2,3,4,5,6]\n",
        "print(a[2])\n",
        "print(a[5])\n",
        "print(a[-1])"
      ],
      "execution_count": null,
      "outputs": [
        {
          "output_type": "stream",
          "text": [
            "3\n",
            "6\n",
            "6\n"
          ],
          "name": "stdout"
        }
      ]
    },
    {
      "cell_type": "markdown",
      "metadata": {
        "id": "A-GI2Gyh5Dav"
      },
      "source": [
        "#### **리스트 개별 아이템에 접근**\n",
        " - 인덱스에 접근하여 값을 업데이트 가능"
      ]
    },
    {
      "cell_type": "code",
      "metadata": {
        "colab": {
          "base_uri": "https://localhost:8080/"
        },
        "id": "6OkMrTfg5Dav",
        "outputId": "e198989b-8303-4324-9944-02d5d567a35f"
      },
      "source": [
        "a = 'hello world'\n",
        "print(a[0])\n",
        "# string --> tuple immutable\n",
        "#  a[0] = 'j' --> x\n",
        "\n",
        "print(a.replace('h', 'j'))\n",
        "print(a)"
      ],
      "execution_count": null,
      "outputs": [
        {
          "output_type": "stream",
          "text": [
            "h\n",
            "jello world\n",
            "hello world\n"
          ],
          "name": "stdout"
        }
      ]
    },
    {
      "cell_type": "markdown",
      "metadata": {
        "id": "nNUOfEeT5Daw"
      },
      "source": [
        "#### **리스트 slicing**\n",
        " - 문자열 슬라이싱과 동일하게 동작\n",
        " - 슬라이싱의 결과 역시 list!"
      ]
    },
    {
      "cell_type": "code",
      "metadata": {
        "colab": {
          "base_uri": "https://localhost:8080/"
        },
        "id": "08x34Lid5Daw",
        "outputId": "e3eff07e-735f-4ee2-f3b0-6fa77e345c4e"
      },
      "source": [
        "\n",
        "a = [1,2,3,4,5,6,7,8]\n",
        "print(a[4:7])\n",
        "print(a[:7])\n",
        "print(a[3:])\n",
        "print(a[:])\n",
        "\n",
        "print(a[1:7:2])\n"
      ],
      "execution_count": null,
      "outputs": [
        {
          "output_type": "stream",
          "text": [
            "[5, 6, 7]\n",
            "[1, 2, 3, 4, 5, 6, 7]\n",
            "[4, 5, 6, 7, 8]\n",
            "[1, 2, 3, 4, 5, 6, 7, 8]\n",
            "[2, 4, 6]\n"
          ],
          "name": "stdout"
        }
      ]
    },
    {
      "cell_type": "markdown",
      "metadata": {
        "id": "9H4AqnyX5Daw"
      },
      "source": [
        "### list 멤버 함수\n",
        " - 생성된 리스트 객체에 동작하는 함수\n",
        " - 향후, 클래스와 멤버 함수 개념을 이해할 예정"
      ]
    },
    {
      "cell_type": "markdown",
      "metadata": {
        "id": "iJ3oqKgG5Daw"
      },
      "source": [
        "* **append()**\n",
        " + 리스트의 끝에 항목을 추가함"
      ]
    },
    {
      "cell_type": "code",
      "metadata": {
        "id": "XrmCoJ-d5Dax",
        "colab": {
          "base_uri": "https://localhost:8080/"
        },
        "outputId": "bb14f444-8a2f-49b5-eecc-b74e1841ee9b"
      },
      "source": [
        "a = [1,2,3,4,5,6,7,8,9,10]\n",
        "b = [11,22,33,44,55,66,77,88,99,100]\n",
        "\n",
        "a.append(11)\n",
        "print(a)"
      ],
      "execution_count": 9,
      "outputs": [
        {
          "output_type": "stream",
          "text": [
            "[1, 2, 3, 4, 5, 6, 7, 8, 9, 10, 11]\n"
          ],
          "name": "stdout"
        }
      ]
    },
    {
      "cell_type": "markdown",
      "metadata": {
        "id": "cMS-MDBo5Dax"
      },
      "source": [
        "+ **extend()**\n",
        " * 리스트를 연장\n",
        " * += 로도 가능함"
      ]
    },
    {
      "cell_type": "code",
      "metadata": {
        "id": "bcCEo2b65Day",
        "colab": {
          "base_uri": "https://localhost:8080/"
        },
        "outputId": "67e81aa3-ab21-4233-fadd-03e8dbd34d43"
      },
      "source": [
        "# a.append(b) --> 1,2,3,4,5,6,7,8,9,11,[11,22,33,44,55,66,77,88,99,100]\n",
        "\n",
        "a += b #a.extend(b)\n",
        "print(a)\n"
      ],
      "execution_count": 3,
      "outputs": [
        {
          "output_type": "stream",
          "text": [
            "[1, 2, 3, 4, 5, 6, 7, 8, 9, 10, 11, 11, 22, 33, 44, 55, 66, 77, 88, 99, 100, 11, 22, 33, 44, 55, 66, 77, 88, 99, 100]\n"
          ],
          "name": "stdout"
        }
      ]
    },
    {
      "cell_type": "markdown",
      "metadata": {
        "id": "CKHCb_aM5Daz"
      },
      "source": [
        "+ **insert()로 항목추가**\n",
        " * 리스트의 원하는 위치에 추가 가능\n",
        " * 앞에 인덱스를, 뒤에 아이템을 명시"
      ]
    },
    {
      "cell_type": "markdown",
      "metadata": {
        "id": "XO4pjSqm5Da0"
      },
      "source": [
        "+ **remove()**\n",
        " * 값으로 항목 삭제"
      ]
    },
    {
      "cell_type": "code",
      "metadata": {
        "id": "vO6ikfY25Da0",
        "colab": {
          "base_uri": "https://localhost:8080/"
        },
        "outputId": "9f03b319-6aae-4067-99f0-bdc5e3089f8e"
      },
      "source": [
        "# a.insert(2, 50)\n",
        "# print(a)\n",
        "\n",
        "# a.insert(2, b)\n",
        "# print(a)\n",
        "\n",
        "a.remove(4)\n",
        "print(a)"
      ],
      "execution_count": 12,
      "outputs": [
        {
          "output_type": "stream",
          "text": [
            "[1, 2, 5, 6, 7, 8, 9, 10, 11]\n"
          ],
          "name": "stdout"
        }
      ]
    },
    {
      "cell_type": "markdown",
      "metadata": {
        "id": "5vQMuYSy5Da0"
      },
      "source": [
        "+ **pop()**\n",
        "  - 지우고자 하는 아이템을 반환 후, 삭제"
      ]
    },
    {
      "cell_type": "code",
      "metadata": {
        "id": "niiOL22j5Da0",
        "colab": {
          "base_uri": "https://localhost:8080/"
        },
        "outputId": "070b9959-8959-4d84-d67b-d78239c0dd2e"
      },
      "source": [
        "b = a.pop() # can remove from index \n",
        "\n",
        "print(a)\n",
        "print(b)"
      ],
      "execution_count": 14,
      "outputs": [
        {
          "output_type": "stream",
          "text": [
            "[1, 2, 5, 6, 7, 8, 9]\n",
            "10\n"
          ],
          "name": "stdout"
        }
      ]
    },
    {
      "cell_type": "markdown",
      "metadata": {
        "id": "DzR0COKl5Da1"
      },
      "source": [
        "+ **index()**\n",
        " * 찾고자 하는 값의 인덱스 반환"
      ]
    },
    {
      "cell_type": "code",
      "metadata": {
        "id": "yO42xF3_5Da1",
        "colab": {
          "base_uri": "https://localhost:8080/",
          "height": 164
        },
        "outputId": "5cdef041-8ba9-4f71-de85-0bc9f9d55568"
      },
      "source": [
        "print(a.index(4))"
      ],
      "execution_count": 15,
      "outputs": [
        {
          "output_type": "error",
          "ename": "ValueError",
          "evalue": "ignored",
          "traceback": [
            "\u001b[0;31m---------------------------------------------------------------------------\u001b[0m",
            "\u001b[0;31mValueError\u001b[0m                                Traceback (most recent call last)",
            "\u001b[0;32m<ipython-input-15-825413a361e6>\u001b[0m in \u001b[0;36m<module>\u001b[0;34m()\u001b[0m\n\u001b[0;32m----> 1\u001b[0;31m \u001b[0mprint\u001b[0m\u001b[0;34m(\u001b[0m\u001b[0ma\u001b[0m\u001b[0;34m.\u001b[0m\u001b[0mindex\u001b[0m\u001b[0;34m(\u001b[0m\u001b[0;36m4\u001b[0m\u001b[0;34m)\u001b[0m\u001b[0;34m)\u001b[0m\u001b[0;34m\u001b[0m\u001b[0;34m\u001b[0m\u001b[0m\n\u001b[0m",
            "\u001b[0;31mValueError\u001b[0m: 4 is not in list"
          ]
        }
      ]
    },
    {
      "cell_type": "markdown",
      "metadata": {
        "id": "Lram9J4K5Da1"
      },
      "source": [
        "* **in 키워드**\n",
        " + 리스트 내에 해당 값이 존재하는지 확인\n",
        " + value in [list]\n",
        " + True, False 중 한가지로 반환"
      ]
    },
    {
      "cell_type": "code",
      "metadata": {
        "id": "vQXWoXHH5Da1",
        "colab": {
          "base_uri": "https://localhost:8080/"
        },
        "outputId": "0143d08b-78f3-41a0-8f54-2490c71fc40a"
      },
      "source": [
        "a = [1,2,3,4,5,6,7, 10]\n",
        "b = 10\n",
        "c = b in a\n",
        "print( c)"
      ],
      "execution_count": 18,
      "outputs": [
        {
          "output_type": "stream",
          "text": [
            "True\n"
          ],
          "name": "stdout"
        }
      ]
    },
    {
      "cell_type": "code",
      "metadata": {
        "id": "7c5_1v0_5Da2",
        "colab": {
          "base_uri": "https://localhost:8080/"
        },
        "outputId": "9d9c97de-7919-4715-b8c5-0ab4266e17fa"
      },
      "source": [
        "a = [2,35,1,2,3,534,54,3,2,3432,3,34,1000]\n",
        "\n",
        "a.sort()\n",
        "print(a)\n",
        "b = sorted(a, reverse=True)\n",
        "print(b)\n",
        "\n",
        "\n",
        "a.sort(reverse=True)\n",
        "print(a)"
      ],
      "execution_count": 24,
      "outputs": [
        {
          "output_type": "stream",
          "text": [
            "[1, 2, 2, 2, 3, 3, 3, 34, 35, 54, 534, 1000, 3432]\n",
            "[3432, 1000, 534, 54, 35, 34, 3, 3, 3, 2, 2, 2, 1]\n",
            "[3432, 1000, 534, 54, 35, 34, 3, 3, 3, 2, 2, 2, 1]\n"
          ],
          "name": "stdout"
        }
      ]
    },
    {
      "cell_type": "markdown",
      "metadata": {
        "id": "s8VcSAt95Da2"
      },
      "source": [
        "* **list 정렬**\n",
        " + sort() -> 리스트 자체를 내부적으로 정렬\n",
        " + sorted() -> 리스트의 정렬된 복사본을 반환"
      ]
    },
    {
      "cell_type": "code",
      "metadata": {
        "id": "S-2Mjr2N5Da2"
      },
      "source": [
        ""
      ],
      "execution_count": null,
      "outputs": []
    },
    {
      "cell_type": "markdown",
      "metadata": {
        "id": "baiXsqV05Da3"
      },
      "source": [
        "### **tuple**\n",
        " - 리스트와 같이 복수개의 값을 갖는 컬렉션 타입\n",
        " - 생성된 후 변경이 불가능"
      ]
    },
    {
      "cell_type": "code",
      "metadata": {
        "id": "KmadN69d5Da3",
        "colab": {
          "base_uri": "https://localhost:8080/",
          "height": 266
        },
        "outputId": "44762235-f10b-4738-d39f-709894f474a3"
      },
      "source": [
        "a = [1,2,3]\n",
        "b = (1,2,3)\n",
        "\n",
        "print(type(a))\n",
        "print(type(b))\n",
        "\n",
        "a[0] = 100\n",
        "print(a)\n",
        "\n",
        "# b[0] = 100 --> X\n",
        "# print(b)"
      ],
      "execution_count": 27,
      "outputs": [
        {
          "output_type": "stream",
          "text": [
            "<class 'list'>\n",
            "<class 'tuple'>\n",
            "[100, 2, 3]\n"
          ],
          "name": "stdout"
        },
        {
          "output_type": "error",
          "ename": "TypeError",
          "evalue": "ignored",
          "traceback": [
            "\u001b[0;31m---------------------------------------------------------------------------\u001b[0m",
            "\u001b[0;31mTypeError\u001b[0m                                 Traceback (most recent call last)",
            "\u001b[0;32m<ipython-input-27-560e50a8c1a4>\u001b[0m in \u001b[0;36m<module>\u001b[0;34m()\u001b[0m\n\u001b[1;32m      8\u001b[0m \u001b[0mprint\u001b[0m\u001b[0;34m(\u001b[0m\u001b[0ma\u001b[0m\u001b[0;34m)\u001b[0m\u001b[0;34m\u001b[0m\u001b[0;34m\u001b[0m\u001b[0m\n\u001b[1;32m      9\u001b[0m \u001b[0;34m\u001b[0m\u001b[0m\n\u001b[0;32m---> 10\u001b[0;31m \u001b[0mb\u001b[0m\u001b[0;34m[\u001b[0m\u001b[0;36m0\u001b[0m\u001b[0;34m]\u001b[0m \u001b[0;34m=\u001b[0m \u001b[0;36m100\u001b[0m\u001b[0;34m\u001b[0m\u001b[0;34m\u001b[0m\u001b[0m\n\u001b[0m\u001b[1;32m     11\u001b[0m \u001b[0mprint\u001b[0m\u001b[0;34m(\u001b[0m\u001b[0mb\u001b[0m\u001b[0;34m)\u001b[0m\u001b[0;34m\u001b[0m\u001b[0;34m\u001b[0m\u001b[0m\n",
            "\u001b[0;31mTypeError\u001b[0m: 'tuple' object does not support item assignment"
          ]
        }
      ]
    },
    {
      "cell_type": "markdown",
      "metadata": {
        "id": "UC-DaKcX5Da3"
      },
      "source": [
        "#### **tuple unpacking**\n",
        " - 튜플의 값을 차례대로 변수에 대입"
      ]
    },
    {
      "cell_type": "code",
      "metadata": {
        "id": "pRiTDpJ15Da3",
        "colab": {
          "base_uri": "https://localhost:8080/"
        },
        "outputId": "f9307815-aed5-4228-a0b1-70e4dc5c90de"
      },
      "source": [
        "a, b = 100, 200\n",
        "\n",
        "print(a, b)\n"
      ],
      "execution_count": 30,
      "outputs": [
        {
          "output_type": "stream",
          "text": [
            "100 200\n"
          ],
          "name": "stdout"
        }
      ]
    },
    {
      "cell_type": "markdown",
      "metadata": {
        "id": "qu1yOIs15Da4"
      },
      "source": [
        "* **연습문제** a와 b의 값을 교환하시오"
      ]
    },
    {
      "cell_type": "code",
      "metadata": {
        "id": "YU_mxT9G5Da7",
        "colab": {
          "base_uri": "https://localhost:8080/"
        },
        "outputId": "bf799860-57da-4f6b-fefb-3c3a897ffeb9"
      },
      "source": [
        "a = 5 \n",
        "b = 4\n",
        "\n",
        "c = a \n",
        "a = b \n",
        "b = c \n",
        "\n",
        "print(a, b)"
      ],
      "execution_count": 31,
      "outputs": [
        {
          "output_type": "stream",
          "text": [
            "4 5\n"
          ],
          "name": "stdout"
        }
      ]
    },
    {
      "cell_type": "code",
      "metadata": {
        "id": "8QDjXbkg5nZh"
      },
      "source": [
        ""
      ],
      "execution_count": null,
      "outputs": []
    }
  ]
}