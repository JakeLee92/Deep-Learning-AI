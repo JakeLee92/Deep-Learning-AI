{
  "nbformat": 4,
  "nbformat_minor": 0,
  "metadata": {
    "kernelspec": {
      "display_name": "Python 3",
      "language": "python",
      "name": "python3"
    },
    "language_info": {
      "codemirror_mode": {
        "name": "ipython",
        "version": 3
      },
      "file_extension": ".py",
      "mimetype": "text/x-python",
      "name": "python",
      "nbconvert_exporter": "python",
      "pygments_lexer": "ipython3",
      "version": "3.6.5"
    },
    "colab": {
      "name": "04~05. 데이터 타입과 컬렉션 - 01~02. 기본 타입 및 변수의 이해.ipynb",
      "provenance": [],
      "collapsed_sections": [],
      "include_colab_link": true
    },
    "accelerator": "GPU"
  },
  "cells": [
    {
      "cell_type": "markdown",
      "metadata": {
        "id": "view-in-github",
        "colab_type": "text"
      },
      "source": [
        "<a href=\"https://colab.research.google.com/github/JakeLee92/Deep-Learning-AI/blob/main/04~05_%EB%8D%B0%EC%9D%B4%ED%84%B0_%ED%83%80%EC%9E%85%EA%B3%BC_%EC%BB%AC%EB%A0%89%EC%85%98_01~02_%EA%B8%B0%EB%B3%B8_%ED%83%80%EC%9E%85_%EB%B0%8F_%EB%B3%80%EC%88%98%EC%9D%98_%EC%9D%B4%ED%95%B4.ipynb\" target=\"_parent\"><img src=\"https://colab.research.google.com/assets/colab-badge.svg\" alt=\"Open In Colab\"/></a>"
      ]
    },
    {
      "cell_type": "markdown",
      "metadata": {
        "id": "It0YSq-quTZ_"
      },
      "source": [
        "### 학습목표\n",
        "1. python 언어에서 변수의 의미 이해하기\n",
        "2. 기본 데이터 타입 선언하기\n",
        " - int, float, str, bool"
      ]
    },
    {
      "cell_type": "markdown",
      "metadata": {
        "id": "pUigYamauTaJ"
      },
      "source": [
        "### 기본 데이터 타입\n",
        "* variable declaration & value assignment (변수 선언 및 값 할당)"
      ]
    },
    {
      "cell_type": "markdown",
      "metadata": {
        "id": "mvkLB36guTaJ"
      },
      "source": [
        "##### =  대입 연산자,  ==  비교 연산자 \n",
        " - 대입의 경우, 오른쪽의 수식이나 값을 evaluation(여기서는 계산이라는 의미로 사용) 한 뒤, \n",
        " - 왼쪽에 명시된 변수에 해당 값을 대입\n",
        " - 변수는 해당 값을 가지게 됨"
      ]
    },
    {
      "cell_type": "code",
      "metadata": {
        "colab": {
          "base_uri": "https://localhost:8080/"
        },
        "id": "cWe8-F-JuTaK",
        "outputId": "e60c2ba0-d2b6-4b3e-de8a-7493657754ec"
      },
      "source": [
        "test_val = 1 \n",
        "\n",
        "if test_val == 1 :\n",
        "  print(\"Right\")"
      ],
      "execution_count": null,
      "outputs": [
        {
          "output_type": "stream",
          "text": [
            "Right\n"
          ],
          "name": "stdout"
        }
      ]
    },
    {
      "cell_type": "markdown",
      "metadata": {
        "id": "S1nXXIgFuTaK"
      },
      "source": [
        "#### **comment(주석)**\n",
        "  - 코드에서 #으로 시작하는 뒷 부분은 실행되지 않음\n",
        "  - python이 소스코드를 실행하면서 #를 만나면 무시\n",
        "  - 개발자(사람)가 보기 위한 용도로 사용"
      ]
    },
    {
      "cell_type": "code",
      "metadata": {
        "id": "-KuYbdNiuTaK"
      },
      "source": [
        "# This is Comment Line \n",
        "# Complier or Interpriter cant check this line"
      ],
      "execution_count": null,
      "outputs": []
    },
    {
      "cell_type": "markdown",
      "metadata": {
        "id": "3dJAAjeOuTaL"
      },
      "source": [
        "#### **print 함수**\n",
        "  - 함수란 특정 기능을 반복적으로 호출하여 사용가능한 코드블럭\n",
        "  - 해당 변수의 값을 출력\n",
        "  - , 로 여러 변수를 나열하면 한줄에 출력\n",
        "  - 기본적으로는 한칸 띄어쓰기 후 출력"
      ]
    },
    {
      "cell_type": "code",
      "metadata": {
        "colab": {
          "base_uri": "https://localhost:8080/"
        },
        "id": "6qbQZZtCuTaL",
        "outputId": "8c4f36a5-4297-49f0-aba5-2f1681096ac0"
      },
      "source": [
        "dlsrb = \"LEE INGYU\"\n",
        "print(\"What do you want to do ?? \", dlsrb )"
      ],
      "execution_count": null,
      "outputs": [
        {
          "output_type": "stream",
          "text": [
            "What do you want to do ??  LEE INGYU\n"
          ],
          "name": "stdout"
        }
      ]
    },
    {
      "cell_type": "markdown",
      "metadata": {
        "id": "fGXd59NUuTaL"
      },
      "source": [
        "* **print함수 설정**\n",
        " - sep : 구분자, 각 출력할 변수 사이에서 구별하는 역할을 함\n",
        " - end : 마지막에 출력할 문자열"
      ]
    },
    {
      "cell_type": "code",
      "metadata": {
        "colab": {
          "base_uri": "https://localhost:8080/"
        },
        "id": "P1n9JT0QuTaM",
        "outputId": "06ab053e-9a04-4a36-c6e3-9c62bef79de4"
      },
      "source": [
        "name = \"INGYU LEE\"\n",
        "age = 30\n",
        "print(name, age , sep= \"=\", end=\"!!\")"
      ],
      "execution_count": null,
      "outputs": [
        {
          "output_type": "stream",
          "text": [
            "INGYU LEE=30!!"
          ],
          "name": "stdout"
        }
      ]
    },
    {
      "cell_type": "markdown",
      "metadata": {
        "id": "ux1d8wEpuTaM"
      },
      "source": [
        "#### **변수 값 확인법**\n",
        " - print() 함수 사용\n",
        " - 변수 값을 코드의 마지막에 위치 시킨 후 실행\n",
        "   - 이 경우 output으로 변수의 값이 출력"
      ]
    },
    {
      "cell_type": "code",
      "metadata": {
        "id": "aNcU1xTXuTaM"
      },
      "source": [
        ""
      ],
      "execution_count": null,
      "outputs": []
    },
    {
      "cell_type": "markdown",
      "metadata": {
        "id": "ChxOFOERuTaN"
      },
      "source": [
        "#### **variable naming (변수 이름 규칙)**\n",
        "  - 숫자로 시작하는 이름을 제외하고 영문 대소문자, _, 숫자로 구성가능 \n",
        "  - 아래의 예제는 모두 valid한 변수 이름\n",
        "  - 일반적으로 해당 변수를 표현하고자 하는 정확하고 간결한 이름을 사용하는 것이 원칙\n",
        "    - 코드를 읽은 것을 더 쉽게 할 수 있음\n",
        "    - e.g) a = 1000의 경우보다 **student_num = 1000**로 명시한 것이 변수에 대한 이해가 빠름"
      ]
    },
    {
      "cell_type": "code",
      "metadata": {
        "id": "0wmnVILeuTaN"
      },
      "source": [
        "_abs123 = 1 "
      ],
      "execution_count": null,
      "outputs": []
    },
    {
      "cell_type": "markdown",
      "metadata": {
        "id": "8hBnIJ5luTaN"
      },
      "source": [
        "* **invalid한 변수 이름의 예**\n",
        " - 숫자로 시작하면 안되는 이유는?"
      ]
    },
    {
      "cell_type": "code",
      "metadata": {
        "colab": {
          "base_uri": "https://localhost:8080/"
        },
        "id": "eiVFI8aeuTaN",
        "outputId": "ec0c4d6b-4046-43fd-f9a0-889ce2b91519"
      },
      "source": [
        "# 4dlsrb = 1 --> X\n",
        "print(4)"
      ],
      "execution_count": null,
      "outputs": [
        {
          "output_type": "stream",
          "text": [
            "4\n"
          ],
          "name": "stdout"
        }
      ]
    },
    {
      "cell_type": "markdown",
      "metadata": {
        "id": "j2N75a-TuTaO"
      },
      "source": [
        "#### **reserved keywords (예약어)**\n",
        "  - python에서 미리 선점하여 사용중인 키워드\n",
        "  - 변수, 함수, 클래스 등등의 사용자 정의 이름으로 사용할 수 없음"
      ]
    },
    {
      "cell_type": "code",
      "metadata": {
        "id": "btAp2bzuuTaO"
      },
      "source": [
        "# for , if , class --> ㅇ예옝예야약ㅇ어억어기 ㄸ때땜때무문ㅇ에 ㅇ아안ㄷ도되된ㄷ다.\n"
      ],
      "execution_count": null,
      "outputs": []
    },
    {
      "cell_type": "markdown",
      "metadata": {
        "id": "4s6iNzdLuTaP"
      },
      "source": [
        "### 기본 데이터 타입 \n",
        "  - 정수 (int)\n",
        "  - 실수 (float)\n",
        "  - 문자열 (str)\n",
        "  - 불리언 (boolean)"
      ]
    },
    {
      "cell_type": "markdown",
      "metadata": {
        "id": "78-abGkMuTaQ"
      },
      "source": [
        "#### type 함수\n",
        " - 해당 변수, 값의 타입(type)을 알고자 할 때 사용"
      ]
    },
    {
      "cell_type": "code",
      "metadata": {
        "colab": {
          "base_uri": "https://localhost:8080/"
        },
        "id": "cXkRJFVJuTaQ",
        "outputId": "37d67e03-afe2-4991-e812-83e441af9fd0"
      },
      "source": [
        "age_of_ingyu = 1\n",
        "type(age_of_ingyu)"
      ],
      "execution_count": null,
      "outputs": [
        {
          "output_type": "execute_result",
          "data": {
            "text/plain": [
              "int"
            ]
          },
          "metadata": {
            "tags": []
          },
          "execution_count": 21
        }
      ]
    },
    {
      "cell_type": "markdown",
      "metadata": {
        "id": "WQg_KrhjuTaQ"
      },
      "source": [
        "\n",
        "#### **None**\n",
        " - 아무런 값을 갖지 않을 때 사용\n",
        " - 일반적으로 변수가 초기값을 갖지 않게 하여 해당 변수를 생성할 때 사용\n",
        " - 기타 언어의 NULL, nil등과 같은 의미로 사용"
      ]
    },
    {
      "cell_type": "code",
      "metadata": {
        "colab": {
          "base_uri": "https://localhost:8080/"
        },
        "id": "-rGc9eTduTaQ",
        "outputId": "f86ef879-0a03-4fa0-c6e8-764faa56ae48"
      },
      "source": [
        "# NULL , nullptr \n",
        "dlsrb = None\n",
        "dlsrb\n",
        "print(dlsrb)"
      ],
      "execution_count": null,
      "outputs": [
        {
          "output_type": "stream",
          "text": [
            "None\n"
          ],
          "name": "stdout"
        }
      ]
    },
    {
      "cell_type": "markdown",
      "metadata": {
        "id": "WGKAtMOWuTaR"
      },
      "source": [
        "#### **comparison operator(비교 연산자)** \n",
        "  - 프로그래밍에서는 비교를 할 경우, = 대신 **==**를 사용\n",
        "  - <, > (작다, 크다)\n",
        "  - <=, >= (작거나 같다, 크거나 같다)\n",
        "  - == 같다\n",
        "  - != 같지 않다\n",
        "  - 비교 연산자의 결과는 bool 타입"
      ]
    },
    {
      "cell_type": "code",
      "metadata": {
        "colab": {
          "base_uri": "https://localhost:8080/"
        },
        "id": "aToOqDFEuTaR",
        "outputId": "33e4d45c-b406-412d-dce0-5fdb293ce51c"
      },
      "source": [
        "a = 5 \n",
        "b = 4 \n",
        "\n",
        "print ( a > b)\n",
        "print ( a < b)\n",
        "print ( a >= b)\n",
        "print ( a <= b)\n",
        "print ( a == b )\n",
        "print ( a != b)\n",
        "\n",
        "type(print(a < b))\n",
        "\n",
        "c = a < b \n",
        "type (c)"
      ],
      "execution_count": null,
      "outputs": [
        {
          "output_type": "stream",
          "text": [
            "True\n",
            "False\n",
            "True\n",
            "False\n",
            "False\n",
            "True\n",
            "False\n"
          ],
          "name": "stdout"
        },
        {
          "output_type": "execute_result",
          "data": {
            "text/plain": [
              "bool"
            ]
          },
          "metadata": {
            "tags": []
          },
          "execution_count": 30
        }
      ]
    },
    {
      "cell_type": "markdown",
      "metadata": {
        "id": "vMaJcGYeuTaR"
      },
      "source": [
        "#### **numbers (숫자형 타입)**\n",
        " - 정수, 실수로 구성\n",
        " - 수학의 기본 연산자(가감승제) 사용 가능"
      ]
    },
    {
      "cell_type": "code",
      "metadata": {
        "colab": {
          "base_uri": "https://localhost:8080/"
        },
        "id": "r268oKVguTaR",
        "outputId": "4707f995-64e6-4e1c-efb1-3227eea33984"
      },
      "source": [
        " a= 5 \n",
        " b = 4 \n",
        "\n",
        " print (a+ b)\n",
        " print (a-b)\n",
        " print (a*b)\n",
        " print (a/b)\n",
        " print (a %b)\n",
        " print (a**b)"
      ],
      "execution_count": null,
      "outputs": [
        {
          "output_type": "stream",
          "text": [
            "9\n",
            "1\n",
            "20\n",
            "1.25\n",
            "1\n",
            "625\n"
          ],
          "name": "stdout"
        }
      ]
    },
    {
      "cell_type": "markdown",
      "metadata": {
        "id": "VuLRJF0_uTaR"
      },
      "source": [
        "#### **operator priorities (연산자 우선순위)**\n",
        "  - 기본적인 수학의 연산자와 동일\n",
        "  - 강제로 연산을 선수하기 위해선, 괄호()를 사용"
      ]
    },
    {
      "cell_type": "code",
      "metadata": {
        "colab": {
          "base_uri": "https://localhost:8080/"
        },
        "id": "P0B8WjIYuTaR",
        "outputId": "e44a3bf6-7f6d-4f0c-e051-c8294cceb843"
      },
      "source": [
        "a = 5 \n",
        "b = 4\n",
        "\n",
        "a + b * 4\n",
        "print((a+b)*4)"
      ],
      "execution_count": null,
      "outputs": [
        {
          "output_type": "stream",
          "text": [
            "36\n"
          ],
          "name": "stdout"
        }
      ]
    },
    {
      "cell_type": "markdown",
      "metadata": {
        "id": "J7J3uaTSuTaS"
      },
      "source": [
        "*  **연습문제** 다음의 각 a값을 출력 했을 때 결과는? \n"
      ]
    },
    {
      "cell_type": "code",
      "metadata": {
        "colab": {
          "base_uri": "https://localhost:8080/"
        },
        "id": "1tSqvnROuTaS",
        "outputId": "653bd8c3-0956-45ef-c115-54fb412920b6"
      },
      "source": [
        "a = 9\n",
        "print(a)\n",
        "print(a - 3)\n",
        "print(a)\n",
        "\n",
        "p = 3 \n",
        "p -= 10 \n",
        "\n",
        "print (p)"
      ],
      "execution_count": null,
      "outputs": [
        {
          "output_type": "stream",
          "text": [
            "9\n",
            "6\n",
            "9\n",
            "-7\n"
          ],
          "name": "stdout"
        }
      ]
    },
    {
      "cell_type": "markdown",
      "metadata": {
        "id": "_1_EcJVMuTaS"
      },
      "source": [
        "#### **expression evaluation & assignment (식평가 & 대입)**\n",
        " - 변수의 값이 변경되기 위해서는 =를 사용하여 대입이 발생하는 경우에만 해당"
      ]
    },
    {
      "cell_type": "code",
      "metadata": {
        "colab": {
          "base_uri": "https://localhost:8080/"
        },
        "id": "zn3pSn5HuTaS",
        "outputId": "6388d7a5-f8e7-4754-823a-376c7d55b1c5"
      },
      "source": [
        "a = 0x0001\n",
        "b = 0x0010\n",
        "\n",
        "print (a|b)\n",
        "print (a&b)"
      ],
      "execution_count": null,
      "outputs": [
        {
          "output_type": "stream",
          "text": [
            "17\n",
            "0\n"
          ],
          "name": "stdout"
        }
      ]
    },
    {
      "cell_type": "code",
      "metadata": {
        "id": "t68SZt3Tya_a"
      },
      "source": [
        ""
      ],
      "execution_count": null,
      "outputs": []
    }
  ]
}